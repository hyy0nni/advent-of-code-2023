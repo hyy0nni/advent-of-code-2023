{
 "cells": [
  {
   "cell_type": "code",
   "execution_count": 2,
   "metadata": {},
   "outputs": [],
   "source": [
    "import aocd\n",
    "input = aocd.get_data(day=2, year=2023).split('\\n')"
   ]
  },
  {
   "cell_type": "code",
   "execution_count": null,
   "metadata": {},
   "outputs": [],
   "source": [
    "# Q1\n",
    "cubes = {'red':12, 'green':13, 'blue':14}\n",
    "answer1 = 0\n",
    "for gameinfo in input:\n",
    "    game = int(gameinfo.split(\":\")[0].split(\" \")[-1])\n",
    "    rounds = gameinfo.split(\": \")[-1].split(\"; \")\n",
    "    check = []\n",
    "    for round in rounds:\n",
    "        for color in round.split(\", \"):\n",
    "            c, n = color.split(\" \")[-1], int(color.split(\" \")[0])\n",
    "            if n > cubes[c]:\n",
    "                check.append(False)\n",
    "                break\n",
    "            else:\n",
    "                continue\n",
    "    if check==[]:\n",
    "        answer1 += game"
   ]
  },
  {
   "cell_type": "code",
   "execution_count": 103,
   "metadata": {},
   "outputs": [],
   "source": [
    "# Q2\n",
    "answer2 = 0\n",
    "for gameinfo in input:\n",
    "    rounds = gameinfo.split(\": \")[-1].split(\"; \")\n",
    "    result = {'red':0, 'green':0, 'blue':0}\n",
    "    for round in rounds:\n",
    "        for color in round.split(\", \"):\n",
    "            c, n = color.split(\" \")[-1], int(color.split(\" \")[0])\n",
    "            if result[c] < n: result[c]=n\n",
    "    answer2 += result['red']*result['green']*result['blue']"
   ]
  }
 ],
 "metadata": {
  "kernelspec": {
   "display_name": "soo",
   "language": "python",
   "name": "python3"
  },
  "language_info": {
   "codemirror_mode": {
    "name": "ipython",
    "version": 3
   },
   "file_extension": ".py",
   "mimetype": "text/x-python",
   "name": "python",
   "nbconvert_exporter": "python",
   "pygments_lexer": "ipython3",
   "version": "3.7.13"
  }
 },
 "nbformat": 4,
 "nbformat_minor": 2
}
