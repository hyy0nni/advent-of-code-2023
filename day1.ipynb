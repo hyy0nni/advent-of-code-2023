{
 "cells": [
  {
   "cell_type": "code",
   "execution_count": 39,
   "metadata": {},
   "outputs": [],
   "source": [
    "import aocd\n",
    "input = aocd.get_data(day=1, year=2023).split('\\n')"
   ]
  },
  {
   "cell_type": "code",
   "execution_count": 21,
   "metadata": {},
   "outputs": [],
   "source": [
    "# Q1\n",
    "answer1 = 0\n",
    "for allvalue in input:\n",
    "    digit = []\n",
    "    for i in allvalue:\n",
    "        if i.isdigit() ==True:\n",
    "            digit.append(j)\n",
    "    answer1 += int(digit[0] + digit[-1])"
   ]
  },
  {
   "cell_type": "code",
   "execution_count": 22,
   "metadata": {},
   "outputs": [
    {
     "name": "stdout",
     "output_type": "stream",
     "text": [
      "55123\n"
     ]
    }
   ],
   "source": [
    "print(answer1)"
   ]
  },
  {
   "cell_type": "code",
   "execution_count": null,
   "metadata": {},
   "outputs": [],
   "source": [
    "# Q2\n",
    "number = {'one':'1', 'two':'2', 'three':'3', 'four':'4', 'five':'5', 'six':'6', 'seven':'7', 'eight':'8', 'nine':'9'}\n",
    "answer2 = 0\n",
    "for allvalue in input:\n",
    "    for i in range(len(allvalue)-2):\n",
    "        for n in number:\n",
    "            if n in allvalue[i:i+5]:\n",
    "                allvalue = allvalue.replace(n[:-1], number[n])\n",
    "    digit = []\n",
    "    for j in allvalue:\n",
    "        if j.isdigit() ==True:\n",
    "            digit.append(j)\n",
    "    answer2 += int(digit[0] + digit[-1])"
   ]
  },
  {
   "cell_type": "code",
   "execution_count": null,
   "metadata": {},
   "outputs": [],
   "source": [
    "print(answer2)"
   ]
  }
 ],
 "metadata": {
  "kernelspec": {
   "display_name": "soo",
   "language": "python",
   "name": "python3"
  },
  "language_info": {
   "codemirror_mode": {
    "name": "ipython",
    "version": 3
   },
   "file_extension": ".py",
   "mimetype": "text/x-python",
   "name": "python",
   "nbconvert_exporter": "python",
   "pygments_lexer": "ipython3",
   "version": "3.7.13"
  }
 },
 "nbformat": 4,
 "nbformat_minor": 2
}
